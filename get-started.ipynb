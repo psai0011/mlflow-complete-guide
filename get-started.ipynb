{
 "cells": [
  {
   "cell_type": "markdown",
   "id": "268add84",
   "metadata": {},
   "source": [
    "## MLflow Tracking Server"
   ]
  },
  {
   "cell_type": "code",
   "execution_count": 6,
   "id": "c3e75d43",
   "metadata": {},
   "outputs": [],
   "source": [
    "import mlflow"
   ]
  },
  {
   "cell_type": "code",
   "execution_count": 7,
   "id": "6495cf39",
   "metadata": {},
   "outputs": [],
   "source": [
    "mlflow.set_tracking_uri(\"http://127.0.0.1:5000\")"
   ]
  },
  {
   "cell_type": "code",
   "execution_count": 9,
   "id": "37cd641d",
   "metadata": {},
   "outputs": [
    {
     "name": "stdout",
     "output_type": "stream",
     "text": [
      "🏃 View run intrigued-mare-360 at: http://127.0.0.1:5000/#/experiments/663496014935821345/runs/d88c0ff22aa84f91b2b00d1983a39899\n",
      "🧪 View experiment at: http://127.0.0.1:5000/#/experiments/663496014935821345\n"
     ]
    }
   ],
   "source": [
    "mlflow.set_experiment(\"Check the localhost connection\")\n",
    "\n",
    "with mlflow.start_run():\n",
    "    mlflow.log_metric(\"test\",1)\n",
    "    mlflow.log_metric(\"Krish\",2)\n",
    "\n",
    "\n"
   ]
  },
  {
   "cell_type": "code",
   "execution_count": 10,
   "id": "354972b3",
   "metadata": {},
   "outputs": [
    {
     "name": "stdout",
     "output_type": "stream",
     "text": [
      "🏃 View run fearless-penguin-34 at: http://127.0.0.1:5000/#/experiments/663496014935821345/runs/4beace076b744a4596fb39c537dfd1fc\n",
      "🧪 View experiment at: http://127.0.0.1:5000/#/experiments/663496014935821345\n"
     ]
    }
   ],
   "source": [
    "mlflow.set_experiment(\"Check the localhost connection\")\n",
    "\n",
    "with mlflow.start_run():\n",
    "    mlflow.log_metric(\"test\",2)\n",
    "    mlflow.log_metric(\"Saikiran\",4)"
   ]
  },
  {
   "cell_type": "code",
   "execution_count": null,
   "id": "bef7165b",
   "metadata": {},
   "outputs": [],
   "source": []
  },
  {
   "cell_type": "code",
   "execution_count": null,
   "id": "6c2c72ea",
   "metadata": {},
   "outputs": [],
   "source": []
  }
 ],
 "metadata": {
  "kernelspec": {
   "display_name": "Python 3",
   "language": "python",
   "name": "python3"
  },
  "language_info": {
   "codemirror_mode": {
    "name": "ipython",
    "version": 3
   },
   "file_extension": ".py",
   "mimetype": "text/x-python",
   "name": "python",
   "nbconvert_exporter": "python",
   "pygments_lexer": "ipython3",
   "version": "3.10.16"
  }
 },
 "nbformat": 4,
 "nbformat_minor": 5
}
